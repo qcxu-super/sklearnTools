{
 "cells": [
  {
   "cell_type": "code",
   "execution_count": 1,
   "metadata": {},
   "outputs": [],
   "source": [
    "from sklearn.datasets import load_boston\n",
    "boston = load_boston()"
   ]
  },
  {
   "cell_type": "code",
   "execution_count": 2,
   "metadata": {},
   "outputs": [],
   "source": [
    "from sklearn.model_selection import train_test_split\n",
    "x_train, x_test, y_train, y_test = train_test_split(boston[\"data\"], boston[\"target\"], test_size=0.25, random_state=33)"
   ]
  },
  {
   "cell_type": "code",
   "execution_count": 3,
   "metadata": {},
   "outputs": [],
   "source": [
    "from sklearn.preprocessing import StandardScaler\n",
    "ss_x = StandardScaler()\n",
    "x_train = ss_x.fit_transform(x_train)\n",
    "x_test = ss_x.transform(x_test)\n",
    "\n",
    "ss_y = StandardScaler()\n",
    "y_train = ss_y.fit_transform(y_train.reshape(len(y_train),1))\n",
    "y_test = ss_y.transform(y_test.reshape(len(y_test),1))"
   ]
  },
  {
   "cell_type": "code",
   "execution_count": 4,
   "metadata": {},
   "outputs": [],
   "source": [
    "from sklearn.neighbors import KNeighborsRegressor\n",
    "uni_knr = KNeighborsRegressor(weights='uniform')  # 默认\n",
    "uni_knr.fit(x_train, y_train)\n",
    "uni_knr_y_predict = uni_knr.predict(x_test)\n"
   ]
  },
  {
   "cell_type": "code",
   "execution_count": 5,
   "metadata": {},
   "outputs": [],
   "source": [
    "dis_knr = KNeighborsRegressor(weights='distance')\n",
    "dis_knr.fit(x_train, y_train)\n",
    "dis_knr_y_predict = dis_knr.predict(x_test)"
   ]
  },
  {
   "cell_type": "code",
   "execution_count": 7,
   "metadata": {},
   "outputs": [
    {
     "name": "stdout",
     "output_type": "stream",
     "text": [
      "R-squared value of uniform-weighted KNeighborRegression: 0.6907212176346006\n",
      "The mean squared error of uniform-weighted KNeighborRegression: 23.981877165354337\n",
      "The mean absolute error of uniform-weighted KNeighborRegression: 2.9650393700787396\n",
      "--------------------------------------------------------------------------------\n",
      "R-squared value of distance-weighted KNeighborRegression: 0.7201094821421603\n",
      "The mean squared error of distance-weighted KNeighborRegression: 21.703073090490353\n",
      "The mean absolute error of distance-weighted KNeighborRegression: 2.801125502210876\n"
     ]
    }
   ],
   "source": [
    "from sklearn.metrics import r2_score, mean_squared_error, mean_absolute_error\n",
    "print(\"R-squared value of uniform-weighted KNeighborRegression:\", uni_knr.score(x_test, y_test))\n",
    "print(\"The mean squared error of uniform-weighted KNeighborRegression:\", mean_squared_error(ss_y.inverse_transform(y_test), ss_y.inverse_transform(uni_knr_y_predict)))\n",
    "print(\"The mean absolute error of uniform-weighted KNeighborRegression:\", mean_absolute_error(ss_y.inverse_transform(y_test), ss_y.inverse_transform(uni_knr_y_predict)))\n",
    "\n",
    "print(\"--------------------------------------------------------------------------------\")\n",
    "\n",
    "print(\"R-squared value of distance-weighted KNeighborRegression:\", dis_knr.score(x_test, y_test))\n",
    "print(\"The mean squared error of distance-weighted KNeighborRegression:\", mean_squared_error(ss_y.inverse_transform(y_test), ss_y.inverse_transform(dis_knr_y_predict)))\n",
    "print(\"The mean absolute error of distance-weighted KNeighborRegression:\", mean_absolute_error(ss_y.inverse_transform(y_test), ss_y.inverse_transform(dis_knr_y_predict)))\n"
   ]
  },
  {
   "cell_type": "code",
   "execution_count": null,
   "metadata": {},
   "outputs": [],
   "source": []
  },
  {
   "cell_type": "code",
   "execution_count": null,
   "metadata": {},
   "outputs": [],
   "source": []
  }
 ],
 "metadata": {
  "kernelspec": {
   "display_name": "Python 3",
   "language": "python",
   "name": "python3"
  },
  "language_info": {
   "codemirror_mode": {
    "name": "ipython",
    "version": 3
   },
   "file_extension": ".py",
   "mimetype": "text/x-python",
   "name": "python",
   "nbconvert_exporter": "python",
   "pygments_lexer": "ipython3",
   "version": "3.6.8"
  }
 },
 "nbformat": 4,
 "nbformat_minor": 2
}
