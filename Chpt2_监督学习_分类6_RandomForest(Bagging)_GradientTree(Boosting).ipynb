{
 "cells": [
  {
   "cell_type": "code",
   "execution_count": 1,
   "metadata": {},
   "outputs": [],
   "source": [
    "import pandas as pd\n",
    "\n",
    "titanic = pd.read_csv(\"./Datasets/Titanic/titanic.txt\")\n"
   ]
  },
  {
   "cell_type": "code",
   "execution_count": 16,
   "metadata": {},
   "outputs": [],
   "source": [
    "df_x = titanic[[\"pclass\", \"age\", \"sex\"]]  # 特征选择\n",
    "df_y = titanic[\"survived\"]"
   ]
  },
  {
   "cell_type": "code",
   "execution_count": 17,
   "metadata": {},
   "outputs": [
    {
     "name": "stderr",
     "output_type": "stream",
     "text": [
      "/opt/app/conda/lib/python3.6/site-packages/pandas/core/generic.py:5434: SettingWithCopyWarning: \n",
      "A value is trying to be set on a copy of a slice from a DataFrame\n",
      "\n",
      "See the caveats in the documentation: http://pandas.pydata.org/pandas-docs/stable/indexing.html#indexing-view-versus-copy\n",
      "  self._update_inplace(new_data)\n"
     ]
    }
   ],
   "source": [
    "df_x[\"age\"].fillna(df_x[\"age\"].mean(), inplace=True)  # 处理缺失值"
   ]
  },
  {
   "cell_type": "code",
   "execution_count": 21,
   "metadata": {},
   "outputs": [],
   "source": [
    "from sklearn.model_selection import train_test_split\n",
    "x_train, x_test, y_train, y_test = train_test_split(df_x, df_y, test_size=0.25, random_state=33)"
   ]
  },
  {
   "cell_type": "code",
   "execution_count": 22,
   "metadata": {},
   "outputs": [],
   "source": [
    "from sklearn.feature_extraction import DictVectorizer\n",
    "vec = DictVectorizer()\n",
    "x_train = vec.fit_transform(x_train.to_dict(orient='record'))  # fit + transform\n",
    "x_test = vec.transform(x_test.to_dict(orient='record'))"
   ]
  },
  {
   "cell_type": "code",
   "execution_count": 29,
   "metadata": {},
   "outputs": [],
   "source": [
    "from sklearn.tree import DecisionTreeClassifier\n",
    "dtc = DecisionTreeClassifier()\n",
    "dtc.fit(x_train, y_train)\n",
    "dtc_y_predict = dtc.predict(x_test)"
   ]
  },
  {
   "cell_type": "code",
   "execution_count": 30,
   "metadata": {},
   "outputs": [
    {
     "name": "stderr",
     "output_type": "stream",
     "text": [
      "/opt/app/conda/lib/python3.6/site-packages/sklearn/ensemble/forest.py:248: FutureWarning: The default value of n_estimators will change from 10 in version 0.20 to 100 in 0.22.\n",
      "  \"10 in version 0.20 to 100 in 0.22.\", FutureWarning)\n"
     ]
    }
   ],
   "source": [
    "# bagging\n",
    "from sklearn.ensemble import RandomForestClassifier\n",
    "rfc = RandomForestClassifier()\n",
    "rfc.fit(x_train, y_train)\n",
    "rfc_y_predict = rfc.predict(x_test)"
   ]
  },
  {
   "cell_type": "code",
   "execution_count": 31,
   "metadata": {},
   "outputs": [],
   "source": [
    "# boosting\n",
    "from sklearn.ensemble import GradientBoostingClassifier\n",
    "gbc = GradientBoostingClassifier()\n",
    "gbc.fit(x_train, y_train)\n",
    "gbc_y_predict = gbc.predict(x_test)"
   ]
  },
  {
   "cell_type": "code",
   "execution_count": 32,
   "metadata": {},
   "outputs": [
    {
     "name": "stdout",
     "output_type": "stream",
     "text": [
      "The accuracy of decission tree is: 0.7811550151975684\n",
      "              precision    recall  f1-score   support\n",
      "\n",
      "        died       0.78      0.91      0.84       202\n",
      "    survived       0.80      0.58      0.67       127\n",
      "\n",
      "   micro avg       0.78      0.78      0.78       329\n",
      "   macro avg       0.79      0.74      0.75       329\n",
      "weighted avg       0.78      0.78      0.77       329\n",
      "\n",
      "--------------------------------------------------------------------\n",
      "The accuracy of random forest classifier is: 0.7781155015197568\n",
      "              precision    recall  f1-score   support\n",
      "\n",
      "        died       0.77      0.91      0.83       202\n",
      "    survived       0.79      0.57      0.67       127\n",
      "\n",
      "   micro avg       0.78      0.78      0.78       329\n",
      "   macro avg       0.78      0.74      0.75       329\n",
      "weighted avg       0.78      0.78      0.77       329\n",
      "\n",
      "--------------------------------------------------------------------\n",
      "The accuracy of gradient tree boosting is: 0.790273556231003\n",
      "              precision    recall  f1-score   support\n",
      "\n",
      "        died       0.78      0.92      0.84       202\n",
      "    survived       0.82      0.58      0.68       127\n",
      "\n",
      "   micro avg       0.79      0.79      0.79       329\n",
      "   macro avg       0.80      0.75      0.76       329\n",
      "weighted avg       0.80      0.79      0.78       329\n",
      "\n"
     ]
    }
   ],
   "source": [
    "from sklearn.metrics import classification_report\n",
    "print(\"The accuracy of decission tree is:\", dtc.score(x_test, y_test))\n",
    "print(classification_report(y_test, dtc_y_predict, target_names=[\"died\",\"survived\"]))\n",
    "\n",
    "print(\"--------------------------------------------------------------------\")\n",
    "\n",
    "print(\"The accuracy of random forest classifier is:\", rfc.score(x_test, y_test))\n",
    "print(classification_report(y_test, rfc_y_predict, target_names=[\"died\",\"survived\"]))\n",
    "\n",
    "print(\"--------------------------------------------------------------------\")\n",
    "\n",
    "print(\"The accuracy of gradient tree boosting is:\", gbc.score(x_test, y_test))\n",
    "print(classification_report(y_test, gbc_y_predict, target_names=[\"died\",\"survived\"]))"
   ]
  },
  {
   "cell_type": "code",
   "execution_count": null,
   "metadata": {},
   "outputs": [],
   "source": []
  },
  {
   "cell_type": "code",
   "execution_count": null,
   "metadata": {},
   "outputs": [],
   "source": []
  }
 ],
 "metadata": {
  "kernelspec": {
   "display_name": "Python 3",
   "language": "python",
   "name": "python3"
  },
  "language_info": {
   "codemirror_mode": {
    "name": "ipython",
    "version": 3
   },
   "file_extension": ".py",
   "mimetype": "text/x-python",
   "name": "python",
   "nbconvert_exporter": "python",
   "pygments_lexer": "ipython3",
   "version": "3.6.8"
  }
 },
 "nbformat": 4,
 "nbformat_minor": 2
}
